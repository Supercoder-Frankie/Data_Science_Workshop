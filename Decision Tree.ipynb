{
 "cells": [
  {
   "cell_type": "code",
   "execution_count": 1,
   "metadata": {},
   "outputs": [],
   "source": [
    "import pandas as pd\n",
    "import numpy as np\n",
    "from matplotlib import pyplot as plt\n",
    "from math import log\n",
    "from sklearn.datasets import load_iris\n",
    "from sklearn.model_selection import train_test_split"
   ]
  },
  {
   "cell_type": "code",
   "execution_count": 2,
   "metadata": {},
   "outputs": [],
   "source": [
    "iris_dataset = load_iris()\n",
    "data = iris_dataset['data']\n",
    "label = iris_dataset['target']\n",
    "label_name = iris_dataset['target_names']"
   ]
  },
  {
   "cell_type": "code",
   "execution_count": 3,
   "metadata": {},
   "outputs": [],
   "source": [
    "# 计算信息熵\n",
    "def Entropy(DataSet):\n",
    "    n = len(DataSet)\n",
    "    label_counts = {}\n",
    "    \n",
    "    for item in DataSet:\n",
    "        label_current = item[-1]\n",
    "        if label_current not in label_counts.keys():\n",
    "            label_counts[label_current] = 0\n",
    "        label_counts[label_current] += 1\n",
    "        ent = 0.0\n",
    "        for key in label_counts:\n",
    "            prob = label_counts[key]/n\n",
    "            ent -= prob*log(prob,2)\n",
    "    return ent"
   ]
  },
  {
   "cell_type": "code",
   "execution_count": 4,
   "metadata": {},
   "outputs": [],
   "source": [
    "class Node:\n",
    "    def __init__(self, dimension, threshold, isLeaf, left, right, species):\n",
    "        self.dimension = dimension  # 划分维度\n",
    "        self.threshold = threshold  # 划分阈值\n",
    "        self.isLeaf = isLeaf  # 是否是叶节点\n",
    "        self.left = left  # 左支（叶节点时为None）\n",
    "        self.right = right  # 右支（叶节点时为None）\n",
    "        self.species = species  # 分类（如果是叶节点）"
   ]
  },
  {
   "cell_type": "code",
   "execution_count": 5,
   "metadata": {},
   "outputs": [],
   "source": [
    "def get_gini(label):\n",
    "    \"\"\"\n",
    "    计算GINI值\n",
    "    :param label: 数组，里面存的是分类\n",
    "    :return: 返回Gini值\n",
    "    \"\"\"\n",
    "    gini = 1\n",
    "    dic = {}\n",
    "    for target in label:\n",
    "        if target in dic.keys():\n",
    "            dic[target] += 1\n",
    "        else:\n",
    "            dic[target] = 1\n",
    "    for value in dic.values():\n",
    "        tmp = value / len(label)\n",
    "        gini -= tmp * tmp\n",
    "    return gini"
   ]
  },
  {
   "cell_type": "code",
   "execution_count": 6,
   "metadata": {},
   "outputs": [],
   "source": [
    "def get_gini_index_min(feature, label, dimension):\n",
    "    \"\"\"\n",
    "    获取某个维度的最小GiniIndex\n",
    "    :param feature: 所有属性list\n",
    "    :param label: 标记list\n",
    "    :param dimension: 维度(从0开始)\n",
    "    :return: gini_index(最小GiniIndex)  threshold(对应阈值)\n",
    "    \"\"\"\n",
    "    attr = feature[:, dimension]\n",
    "    gini_index = 1\n",
    "    threshold = 0\n",
    "    attr_sort = sorted(attr)\n",
    "    candicate_thre = []\n",
    "    # 寻找候选阈值\n",
    "    for i in range(len(attr_sort) - 1):\n",
    "        tmp = (attr_sort[i] + attr_sort[i + 1]) / 2\n",
    "        if tmp not in candicate_thre:\n",
    "            candicate_thre.append(tmp)\n",
    "    # 寻找最小GiniIndex\n",
    "    for thre_tmp in candicate_thre:\n",
    "        index_small_list = [index for index in range(len(feature)) if attr[index] < thre_tmp]\n",
    "        label_small_tmp = label[index_small_list]\n",
    "        index_large_list = [index for index in range(len(feature)) if attr[index] >= thre_tmp]\n",
    "        label_large_tmp = label[index_large_list]\n",
    "        gini_index_tmp = get_gini(label_small_tmp) * len(label_small_tmp) / len(attr) + get_gini(label_large_tmp) * len(\n",
    "            label_large_tmp) / len(attr)\n",
    "        if gini_index_tmp < gini_index:\n",
    "            gini_index = gini_index_tmp\n",
    "            threshold = thre_tmp\n",
    "    print(gini_index, threshold)\n",
    "    return gini_index, threshold"
   ]
  },
  {
   "cell_type": "code",
   "execution_count": 7,
   "metadata": {},
   "outputs": [],
   "source": [
    "def find_dimension_by_GiniIndex(feature, label):\n",
    "    \"\"\"\n",
    "    寻找划分维度\n",
    "    :param feature: 所有属性list\n",
    "    :param label: 标记list\n",
    "    :return: gini_index, threshold, dimension\n",
    "    \"\"\"\n",
    "    dimension = 0\n",
    "    threshold = 0\n",
    "    gini_index_min = 1\n",
    "    for d in range(len(feature[1])):\n",
    "        gini_index, thre = get_gini_index_min(feature, label, d)\n",
    "        if gini_index < gini_index_min:\n",
    "            gini_index_min = gini_index\n",
    "            dimension = d\n",
    "            threshold = thre\n",
    "    print(gini_index, threshold, dimension)\n",
    "    return gini_index, threshold, dimension"
   ]
  },
  {
   "cell_type": "code",
   "execution_count": 8,
   "metadata": {},
   "outputs": [],
   "source": [
    "def devide_by_dimension_and_thre(feature, label, threshold, dimension):\n",
    "    \"\"\"\n",
    "    根据阈值和维度来划分数据集，返回小集和大集\n",
    "    :param feature: 所有属性list\n",
    "    :param label: 标记list\n",
    "    :param threshold: 划分阈值\n",
    "    :param dimension: 划分维度\n",
    "    :return: feature_small, label_small, feature_large, label_large\n",
    "    \"\"\"\n",
    "    attr = feature[:, dimension]\n",
    "    index_small_list = [index for index in range(len(feature)) if attr[index] < threshold]\n",
    "    feature_small = feature[index_small_list]\n",
    "    label_small = label[index_small_list]\n",
    "    index_large_list = [index for index in range(len(feature)) if attr[index] >= threshold]\n",
    "    feature_large = feature[index_large_list]\n",
    "    label_large = label[index_large_list]\n",
    "    return feature_small, label_small, feature_large, label_large\n",
    "\n",
    "\n",
    "def build_tree(feature, label):\n",
    "    \"\"\"\n",
    "    递归构建决策树\n",
    "    :param feature: 所有属性list\n",
    "    :param label: 标记list\n",
    "    :return: 决策树的根Node节点\n",
    "    \"\"\"\n",
    "    if len(label) > 1:\n",
    "        gini_index, threshold, dimension = find_dimension_by_GiniIndex(feature, label)\n",
    "        if gini_index == 0:  # gini_index = 0，说明全都是同一种类型，就是叶节点\n",
    "            return Node(dimension, threshold, True, None, None, label[0])\n",
    "            print('end')\n",
    "        else:\n",
    "            # gini_index != 0，说明还不纯，继续划分，递归构建左支和右支\n",
    "            feature_small, label_small, feature_large, label_large = devide_by_dimension_and_thre(feature, label,\n",
    "                                                                                                  threshold,\n",
    "                                                                                                  dimension)\n",
    "            left = build_tree(feature_small, label_small)\n",
    "            right = build_tree(feature_large, label_large)\n",
    "            return Node(dimension, threshold, False, left, right, None)\n",
    "    else:\n",
    "        # 如果只有一个数据，直接是叶节点\n",
    "        return Node(None, None, True, None, None, label[0])"
   ]
  },
  {
   "cell_type": "code",
   "execution_count": 9,
   "metadata": {
    "scrolled": true
   },
   "outputs": [
    {
     "name": "stdout",
     "output_type": "stream",
     "text": [
      "0.43890633176347466 5.45\n",
      "0.5397432831061151 3.3499999999999996\n",
      "0.3333333333333333 2.45\n",
      "0.3333333333333333 0.8\n",
      "0.3333333333333333 2.45 2\n",
      "0.0 4.35\n",
      "0.0 2.5999999999999996\n",
      "0.0 1.05\n",
      "0.0 0.1\n",
      "0.0 4.35 0\n",
      "0.3931313131313131 6.15\n",
      "0.4644444444444445 2.45\n",
      "0.12646464646464653 4.75\n",
      "0.1103059581320451 1.75\n",
      "0.1103059581320451 1.75 3\n",
      "0.1369671558350803 7.1\n",
      "0.1634085213032582 2.6500000000000004\n",
      "0.0856481481481482 4.95\n",
      "0.14957264957264954 1.35\n",
      "0.14957264957264954 4.95 2\n",
      "0.020833333333333332 4.95\n",
      "0.038690476190476185 2.55\n",
      "0.03947368421052637 4.45\n",
      "0.0 1.65\n",
      "0.0 1.65 3\n",
      "0.39999999999999997 6.95\n",
      "0.3333333333333333 2.6500000000000004\n",
      "0.3333333333333333 5.35\n",
      "0.22222222222222224 1.55\n",
      "0.22222222222222224 1.55 3\n",
      "0.0 6.05\n",
      "0.0 2.4000000000000004\n",
      "0.0 5.05\n",
      "0.0 1.45\n",
      "0.0 6.05 0\n",
      "0.0 6.95\n",
      "0.3333333333333333 2.85\n",
      "0.0 5.449999999999999\n",
      "0.3333333333333333 1.65\n",
      "0.3333333333333333 6.95 0\n",
      "0.0 6.35\n",
      "0.0 2.85\n",
      "0.0 5.05\n",
      "0.0 1.65\n",
      "0.0 6.35 0\n",
      "0.03726708074534162 5.95\n",
      "0.04037267080745343 3.1500000000000004\n",
      "0.02898550724637681 4.85\n",
      "0.03985507246376815 1.85\n",
      "0.03985507246376815 4.85 2\n",
      "0.0 5.95\n",
      "0.0 3.1\n",
      "0.4444444444444444 4.8\n",
      "0.4444444444444444 1.8\n",
      "0.4444444444444444 5.95 0\n",
      "0.0 6.1\n",
      "0.0 2.9\n",
      "0.0 4.8\n",
      "0.0 1.8\n",
      "0.0 6.1 0\n",
      "0.0 5.65\n",
      "0.0 2.5\n",
      "0.0 4.9\n",
      "0.0 1.8\n",
      "0.0 5.65 0\n"
     ]
    },
    {
     "data": {
      "text/plain": [
       "<__main__.Node at 0x7ff791c2a6d0>"
      ]
     },
     "execution_count": 9,
     "metadata": {},
     "output_type": "execute_result"
    }
   ],
   "source": [
    "build_tree(feature=data, label=label)"
   ]
  },
  {
   "cell_type": "code",
   "execution_count": 10,
   "metadata": {},
   "outputs": [],
   "source": [
    "feature_train, feature_test, target_train, target_test = train_test_split(data, label, random_state=10)"
   ]
  },
  {
   "cell_type": "code",
   "execution_count": 11,
   "metadata": {
    "scrolled": true
   },
   "outputs": [
    {
     "name": "stdout",
     "output_type": "stream",
     "text": [
      "0.4491767353707652 5.55\n",
      "0.5163908246225319 3.3499999999999996\n",
      "0.3253424657534246 2.45\n",
      "0.3253424657534246 0.8\n",
      "0.3253424657534246 2.45 2\n",
      "0.0 4.35\n",
      "0.0 2.5999999999999996\n",
      "0.0 1.05\n",
      "0.0 0.1\n",
      "0.0 4.35 0\n",
      "0.3975692656298281 6.25\n",
      "0.45676563565362915 2.95\n",
      "0.1254385232208486 4.75\n",
      "0.12466783396848286 1.75\n",
      "0.12466783396848286 1.75 3\n",
      "0.17105263157894746 4.95\n",
      "0.1739130434782609 2.8499999999999996\n",
      "0.11419457735247202 4.95\n",
      "0.16620498614958445 1.35\n",
      "0.16620498614958445 4.95 2\n",
      "0.030303030303030304 4.95\n",
      "0.05454545454545453 2.55\n",
      "0.05555555555555559 4.45\n",
      "0.0 1.65\n",
      "0.0 1.65 3\n",
      "0.3 6.5\n",
      "0.2666666666666667 2.6500000000000004\n",
      "0.4 5.35\n",
      "0.0 1.55\n",
      "0.0 1.55 3\n",
      "0.04571428571428569 5.95\n",
      "0.051948051948051986 3.1500000000000004\n",
      "0.02857142857142857 4.85\n",
      "0.051948051948051986 1.85\n",
      "0.051948051948051986 4.85 2\n",
      "0.0 5.95\n",
      "0.0 3.1\n",
      "0.5 4.8\n",
      "0.5 1.8\n",
      "0.5 5.95 0\n",
      "0.0 5.65\n",
      "0.0 2.5\n",
      "0.0 4.9\n",
      "0.0 1.8\n",
      "0.0 5.65 0\n",
      "correct rate is 0.9736842105263158\n"
     ]
    }
   ],
   "source": [
    "def predict(root: Node, feature_line):\n",
    "    \"\"\"\n",
    "    使用该方法进行预测\n",
    "    :param root: 决策树根节点\n",
    "    :param feature_line: 需要预测的属性值\n",
    "    :return: 预测结构 label\n",
    "    \"\"\"\n",
    "    node = root\n",
    "    while not node.isLeaf:\n",
    "        if feature_line[node.dimension] < node.threshold:\n",
    "            node = node.left\n",
    "        else:\n",
    "            node = node.right\n",
    "    return node.species\n",
    "\n",
    "\n",
    "def score(root, feature, label):\n",
    "    \"\"\"\n",
    "    模型得分评估\n",
    "    :param root: 决策树根节点\n",
    "    :param feature: 测试集属性list\n",
    "    :param label: 测试集标记list\n",
    "    :return: 正确率\n",
    "    \"\"\"\n",
    "    correct = 0\n",
    "    for index in range(len(feature)):\n",
    "        type = predict(root, feature[index])\n",
    "        if type == label[index]:\n",
    "            correct += 1\n",
    "    print('correct rate is', correct / len(feature))\n",
    "    \n",
    "    \n",
    "res = build_tree(feature_train, target_train)\n",
    "score(res, feature_test, target_test)"
   ]
  },
  {
   "cell_type": "code",
   "execution_count": null,
   "metadata": {},
   "outputs": [],
   "source": []
  }
 ],
 "metadata": {
  "kernelspec": {
   "display_name": "Python 3",
   "language": "python",
   "name": "python3"
  },
  "language_info": {
   "codemirror_mode": {
    "name": "ipython",
    "version": 3
   },
   "file_extension": ".py",
   "mimetype": "text/x-python",
   "name": "python",
   "nbconvert_exporter": "python",
   "pygments_lexer": "ipython3",
   "version": "3.8.5"
  },
  "toc": {
   "base_numbering": 1,
   "nav_menu": {},
   "number_sections": true,
   "sideBar": true,
   "skip_h1_title": false,
   "title_cell": "Table of Contents",
   "title_sidebar": "Contents",
   "toc_cell": false,
   "toc_position": {},
   "toc_section_display": true,
   "toc_window_display": false
  },
  "varInspector": {
   "cols": {
    "lenName": 16,
    "lenType": 16,
    "lenVar": 40
   },
   "kernels_config": {
    "python": {
     "delete_cmd_postfix": "",
     "delete_cmd_prefix": "del ",
     "library": "var_list.py",
     "varRefreshCmd": "print(var_dic_list())"
    },
    "r": {
     "delete_cmd_postfix": ") ",
     "delete_cmd_prefix": "rm(",
     "library": "var_list.r",
     "varRefreshCmd": "cat(var_dic_list()) "
    }
   },
   "types_to_exclude": [
    "module",
    "function",
    "builtin_function_or_method",
    "instance",
    "_Feature"
   ],
   "window_display": false
  }
 },
 "nbformat": 4,
 "nbformat_minor": 4
}
